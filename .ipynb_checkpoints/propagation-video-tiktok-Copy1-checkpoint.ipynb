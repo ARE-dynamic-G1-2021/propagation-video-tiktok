{
 "cells": [
  {
   "cell_type": "markdown",
   "metadata": {},
   "source": [
    "# Propagation d'une vidéo sur TikTok"
   ]
  },
  {
   "cell_type": "code",
   "execution_count": 5,
   "metadata": {},
   "outputs": [
    {
     "name": "stdout",
     "output_type": "stream",
     "text": [
      "\n",
      "\n",
      "['YKWIM?', 'telepatía', 'Preta do Cabelo Cacheado', 'To the Bone', \"Rollin'\", 'Heartbreak Anniversary', 'Iko Iko', 'SugarCrash!', 'Astronaut In The Ocean', 'Friday (feat. Mufasa &amp; Hypeman) - Dopamine Re-Edit', 'Track Star', 'Disco Arranhado - Funk Remix', 'Batom de Cereja - Ao Vivo', 'Cloud 9', 'Marea (We’ve Lost Dancing)', 'Sometimes (Backwood)', 'La Llevo Al Cielo', 'Fiel', 'Tokyo', 'Wellerman - Sea Shanty / 220 KID x Billen Ted Remix', 'Tapão Na Raba', \"Cupid's Chokehold / Breakfast in America\", 'Stand Up (From Harriet)', 'Lut Gaye', 'Yours', 'Моя голова винтом (My head is spinning like a screw)', 'Ella No Es Tuya - Remix', \"Please Don't Go\", 'Uzaklara Savrulalım', 'Chitti (From \"Jathi Ratnalu\")', 'Belum Siap Kehilangan', 'Kota', 'Boku no Sensou', 'Knock Knock', 'Arcade', 'Slumber Party (feat. Princess Nokia)', 'CHICKEN TENDIES', 'Wellerman - Sea Shanty', 'Tomboy', 'Behöver inte dig idag', 'Rasputin', 'Latest Trends', 'Mi manchi', 'Saturno', '501', 'Commitment Issues', 'Amarelo, azul e branco', 'F* F* M*', 'Weak', 'Ordentlich']\n",
      "\n",
      "\n",
      "\n",
      "[' #tiktok', ' #instagram', ' #love', ' #like', ' #viral', ' #follow', ' #memes', ' #explorepage', ' #instagood', ' #likeforlikes', ' #trending', ' #music', ' #followforfollowback', ' #explore', ' #funny', ' #meme', ' #tiktokindonesia', ' #tiktokdance', ' #tiktokindia', ' #photography', ' #k', ' #cute', ' #art', ' #youtube', ' #fashion', ' #likes', ' #bhfyp', ' #tiktokers', ' #lfl']\n",
      "\n",
      "\n",
      "\n",
      "['Social Media Challenges', 'Videos Based on Trending Hashtags', 'Dance Videos', 'Song Imitations', 'Dialogue Reenactments\\xa0', 'Cute Animal Videos', 'Making Art', 'Answer Questions by Posing as Song Cover Photo', 'Satisfying/Calming Videos', ' Fruit Cutting', ' Voiceovers', ' Life in Quarantine', ' Science Experiments', ' Makeover Videos', ' Collaborations with Influencers', ' Tutorials', ' Workout Videos', ' Food/Cooking Videos', ' Freeze-Frame Videos', ' Videos of Your Daily Life', ' Live Videos', ' Creative']\n"
     ]
    }
   ],
   "source": [
    "import requests\n",
    "from bs4 import BeautifulSoup\n",
    "\n",
    "#renvoie  la liste des hashtags tiktok populaire \n",
    "\n",
    "url = 'http://best-hashtags.com/hashtag/tiktok/'\n",
    "\n",
    "response = requests.get(url)\n",
    "\n",
    "if response.ok :\n",
    "\tnom = []\n",
    "\thashtag =[]\n",
    "\tlr = []\n",
    "\tn = ''\n",
    "\tsoup = BeautifulSoup(response.text, 'lxml')\n",
    "\tname = soup.findAll('p1')\n",
    "\t\n",
    "\tfor p1 in name :\n",
    "\t\tnom.append(str(p1))\n",
    "\n",
    "\tfor i in nom :\n",
    "\t\tfor s in i :\n",
    "\t\t\tif (s == ' ') :\n",
    "\t\t\t\tlr.append(n)\n",
    "\t\t\t\tn = ''\n",
    "\t\t\tn +=s\n",
    "\n",
    "for j in range(1,len(lr)):\n",
    "\thashtag.append(lr[j])\n",
    "\n",
    "# Renvoie la listes du top 21 des themes de video populaire sur Tiktok\n",
    "\n",
    "url = 'https://influencermarketinghub.com/tiktok-video-ideas/'\n",
    "\n",
    "response = requests.get(url)\n",
    "\n",
    "if response.ok :\n",
    "\tlr = []\n",
    "\tl = []\n",
    "\tth = ''\n",
    "\ttheme =[]\n",
    "\n",
    "\tsoup = BeautifulSoup(response.text, 'lxml')\n",
    "\tname = soup.findAll('strong')\n",
    "\t\n",
    "\tfor strong in name :\n",
    "\t\tlr.append(str(strong))\n",
    "\n",
    "\tfor i in range(2,len(lr)) :\n",
    "\t\tl.append(lr[i])\n",
    "\n",
    "\tfor j in l :\n",
    "\t\tfor s in range(11 , len(j)-9 ) :\n",
    "\t\t\tth = th + j[s]\n",
    "\n",
    "\t\ttheme.append(th)\n",
    "\t\tth = ''\n",
    "\n",
    "#Affiche les 3 listes\n",
    "\n",
    "print('\\n')\n",
    "print(musique)\n",
    "print('\\n\\n')\n",
    "print(hashtag)\n",
    "print('\\n\\n')\n",
    "print(theme)"
   ]
  },
  {
   "cell_type": "code",
   "execution_count": 73,
   "metadata": {},
   "outputs": [
    {
     "ename": "IndexError",
     "evalue": "list index out of range",
     "output_type": "error",
     "traceback": [
      "\u001b[0;31m---------------------------------------------------------------------------\u001b[0m",
      "\u001b[0;31mIndexError\u001b[0m                                Traceback (most recent call last)",
      "\u001b[0;32m<ipython-input-73-907a4c7d1528>\u001b[0m in \u001b[0;36m<module>\u001b[0;34m\u001b[0m\n\u001b[1;32m     18\u001b[0m     \u001b[0;32mfor\u001b[0m \u001b[0mp\u001b[0m \u001b[0;32min\u001b[0m \u001b[0mrange\u001b[0m\u001b[0;34m(\u001b[0m\u001b[0;36m3\u001b[0m\u001b[0;34m)\u001b[0m\u001b[0;34m:\u001b[0m\u001b[0;34m\u001b[0m\u001b[0;34m\u001b[0m\u001b[0m\n\u001b[1;32m     19\u001b[0m         \u001b[0;32mwhile\u001b[0m \u001b[0mc\u001b[0m \u001b[0;34m<\u001b[0m \u001b[0mlen\u001b[0m\u001b[0;34m(\u001b[0m\u001b[0mhashtag\u001b[0m\u001b[0;34m)\u001b[0m \u001b[0;34m:\u001b[0m\u001b[0;34m\u001b[0m\u001b[0;34m\u001b[0m\u001b[0m\n\u001b[0;32m---> 20\u001b[0;31m             \u001b[0mUSER\u001b[0m\u001b[0;34m[\u001b[0m\u001b[0mi\u001b[0m\u001b[0;34m]\u001b[0m\u001b[0;34m[\u001b[0m\u001b[0mp\u001b[0m\u001b[0;34m]\u001b[0m\u001b[0;34m.\u001b[0m\u001b[0mappend\u001b[0m\u001b[0;34m(\u001b[0m\u001b[0mrandom\u001b[0m\u001b[0;34m.\u001b[0m\u001b[0mchoice\u001b[0m\u001b[0;34m(\u001b[0m\u001b[0mhashtag\u001b[0m\u001b[0;34m)\u001b[0m\u001b[0;34m)\u001b[0m\u001b[0;34m\u001b[0m\u001b[0;34m\u001b[0m\u001b[0m\n\u001b[0m\u001b[1;32m     21\u001b[0m             \u001b[0mc\u001b[0m \u001b[0;34m=\u001b[0m \u001b[0mc\u001b[0m \u001b[0;34m+\u001b[0m \u001b[0;36m1\u001b[0m\u001b[0;34m\u001b[0m\u001b[0;34m\u001b[0m\u001b[0m\n\u001b[1;32m     22\u001b[0m \u001b[0;34m\u001b[0m\u001b[0m\n",
      "\u001b[0;31mIndexError\u001b[0m: list index out of range"
     ]
    }
   ],
   "source": [
    "import random\n",
    "import secrets \n",
    "\n",
    "\n",
    "\n",
    "\n",
    "USER = []\n",
    "videos_liked = []\n",
    "videos_shared = []\n",
    "videos_commented = []\n",
    "user = [[],[],[]] \n",
    "\n",
    "c = 0\n",
    "k = 1\n",
    "\n",
    "for i in range(0,len(hashtag)):\n",
    "    \n",
    "    for p in range(3): \n",
    "        while c < len(hashtag) : \n",
    "            USER[i][p].append(random.choice(hashtag))\n",
    "            c = c + 1  \n",
    "        \n",
    "    random.shuffle(hashtag)\n",
    "    \n",
    "    \n",
    "    \n",
    "  \n",
    "for i in range(5):\n",
    "    for c in USER[i] :\n",
    "        for p in c :\n",
    "            print(p)\n",
    "            print('\\n')\n",
    "    print('--------------------------------------------------------------------------------------------------------')\n"
   ]
  },
  {
   "cell_type": "code",
   "execution_count": null,
   "metadata": {},
   "outputs": [],
   "source": []
  },
  {
   "cell_type": "code",
   "execution_count": null,
   "metadata": {},
   "outputs": [],
   "source": []
  }
 ],
 "metadata": {
  "kernelspec": {
   "display_name": "Python 3",
   "language": "python",
   "name": "python3"
  },
  "language_info": {
   "codemirror_mode": {
    "name": "ipython",
    "version": 3
   },
   "file_extension": ".py",
   "mimetype": "text/x-python",
   "name": "python",
   "nbconvert_exporter": "python",
   "pygments_lexer": "ipython3",
   "version": "3.8.5"
  }
 },
 "nbformat": 4,
 "nbformat_minor": 4
}
