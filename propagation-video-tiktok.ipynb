{
 "cells": [
  {
   "cell_type": "markdown",
   "metadata": {},
   "source": [
    "# Propagation d'une vidéo sur TikTok"
   ]
  },
  {
   "cell_type": "markdown",
   "metadata": {},
   "source": [
    "## Fonctions web-scraping\n",
    "\n",
    "Ces fonctions servent à tirer des musiques, themes et hashtags pour utiliser dans la modélisation"
   ]
  },
  {
   "cell_type": "code",
   "execution_count": 4,
   "metadata": {},
   "outputs": [],
   "source": [
    "import requests\n",
    "from bs4 import BeautifulSoup\n",
    "import random\n",
    "\n",
    "def musique(): #Liste des 50 musiques populaires\n",
    "\n",
    "    musique = ['911','Your Love' ,'LA CANCIÓN','Fever','BXL ZOO','SENTIMENTAL','La Curiosidad','Levitating',\n",
    "    'TE MUDASTE','EL MAKINON','WITHOUT YOU','Whoopty','Life Is Good','Circles','COEUR EN MIETTES','HAINE&SEX',\n",
    "    'Beautiful Mistakes','Señorita','Ariana Grande','Positions','Shape of You','Lose Yourself','Goosebumps',\n",
    "    'Savage Love','Africa','34+35','Tattoo' ,'Stressed Out','Lonely','Therefore I Am','Shallow',\n",
    "    'Every Breath You Take','Rapstar','Peaches','Up','Deja Vu','Calling My phone','Ski','Mood','Go Crazy',\n",
    "    'Therefore I Am','On Me','Track Star','Good Days','Streets','Time Today','Richer','Anyone','Lady','Proud Of You']\n",
    "\n",
    "    return musique\n",
    "\n",
    "# print(musique())\n",
    "\n",
    "#renvoie  la liste des hashtags tiktok populaire \n",
    "\n",
    "\n",
    "def hashtag():\n",
    "\n",
    "\turl = 'http://best-hashtags.com/hashtag/tiktok/'\n",
    "\n",
    "\tresponse = requests.get(url)\n",
    "\n",
    "\tif response.ok :\n",
    "\t\tnom = []\n",
    "\t\thashtag =[]\n",
    "\t\tlr = []\n",
    "\t\tn = ''\n",
    "\t\tsoup = BeautifulSoup(response.text, 'lxml')\n",
    "\t\tname = soup.findAll('p1')\n",
    "\t\n",
    "\t\tfor p1 in name :\n",
    "\t\t\tnom.append(str(p1))\n",
    "\n",
    "\t\tfor i in nom :\n",
    "\t\t\tfor s in i :\n",
    "\t\t\t\tif (s == ' ') :\n",
    "\t\t\t\t\tlr.append(n)\n",
    "\t\t\t\t\tn = ''\n",
    "\t\t\t\tn +=s\n",
    "\n",
    "\tfor j in range(1,len(lr)):\n",
    "\t\thashtag.append(lr[j])\n",
    "\n",
    "\n",
    "\treturn hashtag\n",
    "\n",
    "# Renvoie la listes du top 21 des themes de video populaire sur Tiktok\n",
    "\n",
    "def themes():\n",
    "\n",
    "\turl = 'https://influencermarketinghub.com/tiktok-video-ideas/'\n",
    "\n",
    "\tresponse = requests.get(url)\n",
    "\n",
    "\tif response.ok :\n",
    "\t\tlr = []\n",
    "\t\tl = []\n",
    "\t\tth = ''\n",
    "\t\ttheme =[]\n",
    "\n",
    "\t\tsoup = BeautifulSoup(response.text, 'lxml')\n",
    "\t\tname = soup.findAll('strong')\n",
    "\t\n",
    "\t\tfor strong in name :\n",
    "\t\t\tlr.append(str(strong))\n",
    "\n",
    "\t\tfor i in range(2,len(lr)) :\n",
    "\t\t\tl.append(lr[i])\n",
    "\n",
    "\t\tfor j in l :\n",
    "\t\t\tfor s in range(11 , len(j)-9 ) :\n",
    "\t\t\t\tth = th + j[s]\n",
    "\n",
    "\t\t\ttheme.append(th)\n",
    "\t\t\tth = ''\n",
    "\n",
    "\treturn theme\n",
    "\n",
    "#Base video : Assigne de maniere aleatoire 1 theme , 1 musique , 1 hashtag au tupple (int,str,str,str)\n",
    "\n",
    "def base_video(nb):\n",
    "\n",
    "    l1 = themes()\n",
    "    l2 = musique()\n",
    "    l3 = hashtag()\n",
    "    video = []\n",
    "    i = 1 #Permet d'assigner un identifiant à chaque video\n",
    "\n",
    "    while i < nb : \n",
    "\t    video.append((i , random.choice(l1) , random.choice(l2) , random.choice(l3)))\n",
    "\t    i = i + 1\n",
    "\n",
    "    return (video)\n",
    "\n",
    "# print(\"\\n\")\n",
    "# print(base_video(20))"
   ]
  },
  {
   "cell_type": "markdown",
   "metadata": {},
   "source": [
    "# Résumé fonctionnement\n",
    "\n",
    "`base_utilisateurs` et `base_videos` sont immutables.\n",
    "\n",
    "`base_utilisateurs` commence avec des dictionnaires `ident:` tuples `(theme, musique, hashtag)`.\n",
    "`base_videos` commence avec des dictionnaires `ident:` tuples `(theme, musique, hashtag)`.\n",
    "(note : on pourrait peut-être utiliser la même fonction pour les créer avec des nombres d'itérations différents (ou même un lien entre le nb utilisateurs et le nb vidéos)\n",
    "\n",
    "Stockage de données :\n",
    "\n",
    "- `interactions` : dictionnaire `identifiant vidéo: [vue, like, comm, partage]`\n",
    "- `interaction_utilisateur` de format `ident user : [ident video]\n",
    "\n",
    "Comment on va itérer :\n",
    "\n",
    "- on va parcourir la base de vidéos et la base d'utilisateurs pour accumuler des intéractions: (fonction `tour_modele`)\n",
    "    - paramètres : `base_utilisateurs, base_videos (max_iter, on verra)`\n",
    "    - on prend un utilisateur random de `base_utilisateurs`:\n",
    "        - on prend des vidéos aléatoirement de `base_videos`\n",
    "        - on compare aux préferences de l'utilisateur (il suffit qu'une soit présente) (fonction `compare_video`)\n",
    "        - on continue jusqu'à qu'on trouve une vidéo qui correspond\n",
    "            - on rajoute la vidéo à intéractions : (fonction `add_interaction)\n",
    "                - on rajoute pour `interactions(ident)` une vue systématiquement\n",
    "                - un like (aléatoirement)\n",
    "                - un commentaire (aléatoirement)\n",
    "                - un partage (aléatoirement)\n",
    "            - on rajoute aussi la vidéo à `interaction_utilisateur`\n",
    "- on décide un poids à attribuer à chaque intéraction (ce seront les paramètres d'une fonction)\n",
    "- on utilise cela pour calculer un coefficient de popularité pour chaque vidéo (fonction `coefficient_popularite`)\n",
    "- cela détermine ce qui est prioritisé par la modélisation de Manissa et Salwa"
   ]
  },
  {
   "cell_type": "markdown",
   "metadata": {},
   "source": [
    "## base_videos"
   ]
  },
  {
   "cell_type": "code",
   "execution_count": 5,
   "metadata": {},
   "outputs": [],
   "source": [
    "nbv = 200 #permet de generer nbv video\n",
    "\n",
    "l1 = themes()\n",
    "l2 = musique()\n",
    "l3 = hashtag()\n",
    "\n",
    "video = {}\n",
    "i = 1 #Permet d'assigner un identifiant à chaque video\n",
    "\n",
    "while i < nbv : \n",
    "\tvideo[i]= (random.choice(l1) , random.choice(l2) , random.choice(l3))\n",
    "\ti = i + 1"
   ]
  },
  {
   "cell_type": "markdown",
   "metadata": {},
   "source": [
    "## base_utilisateur"
   ]
  },
  {
   "cell_type": "code",
   "execution_count": 8,
   "metadata": {},
   "outputs": [],
   "source": [
    "nbu = 50 #permet de generer nbu utilisateur\n",
    "\n",
    "l1 = themes()\n",
    "l2 = musique()\n",
    "l3 = hashtag()\n",
    "\n",
    "utilisateur = {}\n",
    "i = 1 #Permet d'assigner un identifiant à chaque utilisateur \n",
    "\n",
    "while i < nbu : \n",
    "\tutilisateur[i] = (random.choice(l1) , random.choice(l2) , random.choice(l3))\n",
    "\ti = i + 1"
   ]
  },
  {
   "cell_type": "markdown",
   "metadata": {},
   "source": [
    "## add_interaction"
   ]
  },
  {
   "cell_type": "code",
   "execution_count": 11,
   "metadata": {},
   "outputs": [],
   "source": [
    "interactions = {} \n",
    "\n",
    "for k in range(0 , len(video)):\n",
    "\tinteractions[k] = [0,0,0,0]\n",
    "\n",
    "def add_interaction(utilisateur, video, interactions):\n",
    "\n",
    "\ti = random.randint(1,len(utilisateur)) #choisi un utilisateur au hasard\n",
    "\n",
    "\tfor j in range(0 , len(videos)) : #parcours toutes les videos\n",
    "\t\tfor l in interactions[j] : \n",
    "\t\t\tl[0]+= 1 #ajoute une vue \n",
    "\t\t\tfor k in video[j] :\n",
    "\t\t\t\tfor p in utilisateur[i] :\n",
    "\t\t\t\t\tif (p[0] == k[0] or p[1] == k[1] or p[2]==k[2]):\n",
    "\t\t\t\t\t\tfor l in interactions[j] :\n",
    "\t\t\t\t\t\t\tl[1]+= random.randint(0,1) #ajoute like aleatoirement\n",
    "\t\t\t\t\t\t\tl[2]+= random.randint(0,1) #ajoute commentaire aleatoirement\n",
    "\t\t\t\t\t\t\tl[3]+= random.randint(0,1) #ajoute partage aleatoirement\n",
    "\n",
    "# print(interactions)"
   ]
  },
  {
   "cell_type": "markdown",
   "metadata": {},
   "source": [
    "# compare_video\n",
    "\n",
    "Compare les caractéristiques d'une vidéo aux préférences d'un utilisateur. Si elles sont les mêmes, True est retourné. Est utilisée dans `add_interaction`."
   ]
  },
  {
   "cell_type": "code",
   "execution_count": null,
   "metadata": {},
   "outputs": [],
   "source": [
    "def compare_video(utilisateur, video): # iteration for videos will be done separately either on tour_modele or a function like compare_videos\n",
    "    for i in range (len(utilisateur)):\n",
    "        if utilisateur[i] == video[i]:\n",
    "            return True\n",
    "    return False"
   ]
  },
  {
   "cell_type": "markdown",
   "metadata": {},
   "source": [
    "## Représentation graphique\n",
    "\n",
    "Lorsque vous ouvrez le dossier, exécutez le fichier propagation_video_animation.py. Normalement, vous devez tomber sur une fenêtre tkinter qui demandera d'entrer les paramètres.\n",
    "En fait, elles ne sont pas obligatoires, même si que les entrées sont vides et que vous cliquez sur \"Start\", ça fonctionnera.\n",
    "\n",
    "Une fois que vous cliquez sur \"Start\", une nouvelle fenêtre apparaîtra, celle de pygame. Comme avant, vous pouvez utiliser espace, puis les touches directionnelles pour déplacer tiktok.\n",
    "D'ailleurs, vous pouvez voir la confirmation des entrées dans la console normalement.\n",
    "\n",
    "Comme avant, lorsque vous être en contact avec un humain, la console affiche le numéro de la collision, puis le nombre de vues augmente. Mais cette fois, le nombre de vues s'arrête à un moment précis, celui de l'objectif du nombre de vues."
   ]
  },
  {
   "cell_type": "code",
   "execution_count": null,
   "metadata": {},
   "outputs": [],
   "source": []
  }
 ],
 "metadata": {
  "kernelspec": {
   "display_name": "Python 3",
   "language": "python",
   "name": "python3"
  },
  "language_info": {
   "codemirror_mode": {
    "name": "ipython",
    "version": 3
   },
   "file_extension": ".py",
   "mimetype": "text/x-python",
   "name": "python",
   "nbconvert_exporter": "python",
   "pygments_lexer": "ipython3",
   "version": "3.9.4"
  },
  "metadata": {
   "interpreter": {
    "hash": "3e4985cd88b3a56a52b003f0882d181d8cd7ec7ac144250e5d6b471c317680e4"
   }
  }
 },
 "nbformat": 4,
 "nbformat_minor": 4
}
