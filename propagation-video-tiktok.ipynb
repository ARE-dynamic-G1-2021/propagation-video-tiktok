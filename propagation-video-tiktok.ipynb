{
 "cells": [
  {
   "cell_type": "markdown",
   "metadata": {},
   "source": [
    "# Propagation d'une vidéo sur TikTok"
   ]
  },
  {
   "cell_type": "markdown",
   "metadata": {},
   "source": [
    "## Fonctions web-scraping\n",
    "\n",
    "Ces fonctions servent à tirer des musiques, themes et hashtags pour utiliser dans la modélisation"
   ]
  },
  {
   "cell_type": "code",
   "execution_count": 12,
   "metadata": {},
   "outputs": [
    {
     "name": "stdout",
     "output_type": "stream",
     "text": [
      "\n",
      "\n",
      "[(1, 'Satisfying/Calming Videos', 'Disco Arranhado - Funk Remix', ' #funny'), (2, ' Life in Quarantine', 'Umrumda Değil', ' #instagram'), (3, 'Cute Animal Videos', 'Runaway', ' #fashion'), (4, 'Videos Based on Trending Hashtags', 'Ako Naman Muna', ' #funny'), (5, 'Social Media Challenges', 'Runaway', ' #tiktokindonesia'), (6, ' Videos of Your Daily Life', 'Tokyo', ' #art'), (7, ' Videos of Your Daily Life', 'I Hear a Symphony', ' #viral'), (8, ' Creative', 'Tokyo', ' #funny'), (9, 'Satisfying/Calming Videos', 'On The Ground', ' #youtube'), (10, ' Collaborations with Influencers', \"Cupid's Chokehold / Breakfast in America\", ' #youtube'), (11, 'Dance Videos', 'Disco Arranhado - Funk Remix', ' #fashion'), (12, ' Live Videos', 'Yucky Blucky Fruitcake', ' #explore'), (13, ' Live Videos', 'Tu Aake Dekhle', ' #youtube'), (14, 'Social Media Challenges', 'Leave The Door Open', ' #tiktokindia'), (15, ' Collaborations with Influencers', 'Iko Iko', ' #youtube'), (16, 'Videos Based on Trending Hashtags', 'Chivirika', ' #photography'), (17, 'Answer Questions by Posing as Song Cover Photo', \"Cupid's Chokehold / Breakfast in America\", ' #music'), (18, 'Dialogue Reenactments\\xa0', 'Leave The Door Open', ' #love'), (19, 'Dialogue Reenactments\\xa0', 'Tapão Na Raba', ' #tiktok')]\n"
     ]
    }
   ],
   "source": [
    "import requests\n",
    "from bs4 import BeautifulSoup\n",
    "import random\n",
    "\n",
    "#Renvoie la liste de 50 musiques populaire actuelle dans l'odre (Spotify)\n",
    "\n",
    "def musique():\n",
    "\n",
    "\turl = 'https://spotifycharts.com/viral/global/weekly/latest'\n",
    "\n",
    "\tresponse = requests.get(url)\n",
    "\n",
    "\tif response.ok :\n",
    "\t\tnom = []\n",
    "\t\tmusique = []\n",
    "\t\tn = ''\n",
    "\t\tsoup = BeautifulSoup(response.text, 'lxml')\n",
    "\t\tname = soup.findAll('strong')\n",
    "\t\n",
    "\t\tfor strong in name :\n",
    "\t\t\tnom.append(str(strong))\n",
    "\n",
    "\t\tfor i in nom :\n",
    "\t\t\tfor s in range(8 , len(i) - 9):\n",
    "\t\t\t\tn = n + i[s]\n",
    "\n",
    "\t\t\tmusique.append(n)\n",
    "\t\t\tn = ''\n",
    "\n",
    "\treturn musique\n",
    "\n",
    "#renvoie  la liste des hashtags tiktok populaire \n",
    "\n",
    "\n",
    "def hashtag():\n",
    "\n",
    "\turl = 'http://best-hashtags.com/hashtag/tiktok/'\n",
    "\n",
    "\tresponse = requests.get(url)\n",
    "\n",
    "\tif response.ok :\n",
    "\t\tnom = []\n",
    "\t\thashtag =[]\n",
    "\t\tlr = []\n",
    "\t\tn = ''\n",
    "\t\tsoup = BeautifulSoup(response.text, 'lxml')\n",
    "\t\tname = soup.findAll('p1')\n",
    "\t\n",
    "\t\tfor p1 in name :\n",
    "\t\t\tnom.append(str(p1))\n",
    "\n",
    "\t\tfor i in nom :\n",
    "\t\t\tfor s in i :\n",
    "\t\t\t\tif (s == ' ') :\n",
    "\t\t\t\t\tlr.append(n)\n",
    "\t\t\t\t\tn = ''\n",
    "\t\t\t\tn +=s\n",
    "\n",
    "\tfor j in range(1,len(lr)):\n",
    "\t\thashtag.append(lr[j])\n",
    "\n",
    "\n",
    "\treturn hashtag\n",
    "\n",
    "# Renvoie la listes du top 21 des themes de video populaire sur Tiktok\n",
    "\n",
    "def themes():\n",
    "\n",
    "\turl = 'https://influencermarketinghub.com/tiktok-video-ideas/'\n",
    "\n",
    "\tresponse = requests.get(url)\n",
    "\n",
    "\tif response.ok :\n",
    "\t\tlr = []\n",
    "\t\tl = []\n",
    "\t\tth = ''\n",
    "\t\ttheme =[]\n",
    "\n",
    "\t\tsoup = BeautifulSoup(response.text, 'lxml')\n",
    "\t\tname = soup.findAll('strong')\n",
    "\t\n",
    "\t\tfor strong in name :\n",
    "\t\t\tlr.append(str(strong))\n",
    "\n",
    "\t\tfor i in range(2,len(lr)) :\n",
    "\t\t\tl.append(lr[i])\n",
    "\n",
    "\t\tfor j in l :\n",
    "\t\t\tfor s in range(11 , len(j)-9 ) :\n",
    "\t\t\t\tth = th + j[s]\n",
    "\n",
    "\t\t\ttheme.append(th)\n",
    "\t\t\tth = ''\n",
    "\n",
    "\treturn theme\n",
    "\n",
    "#Base video : Assigne de maniere aleatoire 1 theme , 1 musique , 1 hashtag au tupple (int,str,str,str)\n",
    "\n",
    "def base_video(nb):\n",
    "\n",
    "    l1 = themes()\n",
    "    l2 = musique()\n",
    "    l3 = hashtag()\n",
    "    video = []\n",
    "    i = 1 #Permet d'assigner un identifiant à chaque video\n",
    "\n",
    "    while i < nb : \n",
    "\t    video.append((i , random.choice(l1) , random.choice(l2) , random.choice(l3)))\n",
    "\t    i = i + 1\n",
    "\n",
    "    return (video)\n",
    "\n",
    "print(\"\\n\")\n",
    "print(base_video(20))"
   ]
  },
  {
   "cell_type": "markdown",
   "metadata": {},
   "source": [
    "## base_utilisateur\n",
    "\n",
    "La fonction `base_utilisateur` renvoie un liste de tuples du format `identifiant, musique_favorie, hashtags_favoris, themes_favoris`. Sa sortie sera utilisée pour la fonction `interaction`."
   ]
  },
  {
   "cell_type": "code",
   "execution_count": 3,
   "metadata": {},
   "outputs": [
    {
     "name": "stdout",
     "output_type": "stream",
     "text": [
      "\n",
      "\n",
      "[(1, ['Kiss (Never Let Me Go)', 'Gone', 'La Llevo Al Cielo', 'L-Gante: Bzrp Music Sessions, Vol.38', 'Friday (feat. Mufasa &amp; Hypeman) - Dopamine Re-Edit'], [' #tiktokers', ' #bhfyp', ' #funny', ' #photography', ' #youtube'], ['Cute Animal Videos', ' Makeover Videos', 'Cute Animal Videos', 'Dance Videos', 'Dialogue Reenactments\\xa0']), (2, ['Tokyo', 'Leave The Door Open', 'Umrumda Değil', 'Dale Corte (Con Luxian, Keishon Trigga y S4vage)', 'Espirra o Lança'], [' #photography', ' #youtube', ' #followforfollowback', ' #bhfyp', ' #youtube'], [' Creative', ' Freeze-Frame Videos', ' Life in Quarantine', ' Freeze-Frame Videos', ' Makeover Videos']), (3, ['L-Gante: Bzrp Music Sessions, Vol.38', 'I Hear a Symphony', 'Iko Iko', 'Rasputin', 'Flamenco y Bachata'], [' #funny', ' #tiktokindia', ' #music', ' #tiktok', ' #tiktok'], ['Cute Animal Videos', ' Collaborations with Influencers', ' Voiceovers', 'Dialogue Reenactments\\xa0', ' Food/Cooking Videos']), (4, ['Friday (feat. Mufasa &amp; Hypeman) - Dopamine Re-Edit', \"Rollin'\", 'Enjoy Enjaami', 'Iko Iko', 'Slumber Party'], [' #fashion', ' #tiktokindia', ' #tiktokers', ' #k', ' #followforfollowback'], ['Videos Based on Trending Hashtags', ' Freeze-Frame Videos', ' Freeze-Frame Videos', ' Fruit Cutting', ' Life in Quarantine']), (5, ['Dale Corte (Con Luxian, Keishon Trigga y S4vage)', 'YKWIM?', 'Marea (We’ve Lost Dancing)', 'Espirra o Lança', 'Marea (We’ve Lost Dancing)'], [' #art', ' #likes', ' #lfl', ' #funny', ' #instagram'], [' Creative', 'Social Media Challenges', 'Satisfying/Calming Videos', ' Freeze-Frame Videos', 'Making Art']), (6, ['I Hear a Symphony', 'Gone', 'Prom Night', 'I Hear a Symphony', 'I Hear a Symphony'], [' #instagood', ' #youtube', ' #tiktokdance', ' #lfl', ' #instagood'], [' Science Experiments', ' Food/Cooking Videos', ' Science Experiments', 'Videos Based on Trending Hashtags', 'Song Imitations']), (7, ['Batom de Cereja - Ao Vivo', 'Batom de Cereja - Ao Vivo', 'Rasputin', 'Espirra o Lança', 'Alaz Alaz'], [' #likes', ' #youtube', ' #follow', ' #tiktokdance', ' #like'], [' Fruit Cutting', 'Videos Based on Trending Hashtags', 'Cute Animal Videos', ' Creative', ' Live Videos']), (8, ['Dale Corte (Con Luxian, Keishon Trigga y S4vage)', 'Yucky Blucky Fruitcake', 'Cloud 9', 'en el Refuego', 'Prom Night'], [' #tiktokdance', ' #tiktok', ' #viral', ' #lfl', ' #tiktokindia'], ['Social Media Challenges', ' Fruit Cutting', ' Videos of Your Daily Life', 'Making Art', 'Making Art']), (9, [\"Rollin'\", 'Somebody To Love', 'Romeo &amp; Juliet', 'SugarCrash!', 'Cloud 9'], [' #art', ' #explorepage', ' #bhfyp', ' #lfl', ' #bhfyp'], [' Food/Cooking Videos', 'Dialogue Reenactments\\xa0', ' Creative', ' Voiceovers', ' Makeover Videos']), (10, ['Friday (feat. Mufasa &amp; Hypeman) - Dopamine Re-Edit', 'La Llevo Al Cielo', 'Chivirika', 'Yucky Blucky Fruitcake', 'Iko Iko'], [' #tiktokers', ' #art', ' #memes', ' #cute', ' #fashion'], ['Dialogue Reenactments\\xa0', ' Makeover Videos', ' Tutorials', ' Makeover Videos', 'Making Art']), (11, ['Baby Me Atende', 'Baby Me Atende', 'Marea (We’ve Lost Dancing)', 'Dale Corte (Con Luxian, Keishon Trigga y S4vage)', 'Baby Me Atende'], [' #explorepage', ' #fashion', ' #fashion', ' #tiktokers', ' #youtube'], ['Dance Videos', 'Videos Based on Trending Hashtags', ' Creative', 'Answer Questions by Posing as Song Cover Photo', ' Makeover Videos']), (12, ['YKWIM?', 'Till Forever Falls Apart', 'en el Refuego', 'Wellerman - Sea Shanty / 220 KID x Billen Ted Remix', 'Dale Corte (Con Luxian, Keishon Trigga y S4vage)'], [' #likes', ' #tiktokindonesia', ' #follow', ' #art', ' #music'], [' Science Experiments', 'Dance Videos', 'Dialogue Reenactments\\xa0', 'Videos Based on Trending Hashtags', 'Satisfying/Calming Videos']), (13, ['3KIPA', 'Track Star', 'Tu Aake Dekhle', 'Kiss (Never Let Me Go)', 'Arcade'], [' #k', ' #trending', ' #likeforlikes', ' #lfl', ' #instagram'], ['Dialogue Reenactments\\xa0', ' Workout Videos', 'Making Art', ' Makeover Videos', ' Collaborations with Influencers']), (14, ['Friday (feat. Mufasa &amp; Hypeman) - Dopamine Re-Edit', 'Fiel', 'Hold On', 'Marea (We’ve Lost Dancing)', 'Yucky Blucky Fruitcake'], [' #cute', ' #tiktokers', ' #followforfollowback', ' #followforfollowback', ' #instagram'], [' Voiceovers', 'Social Media Challenges', 'Dance Videos', ' Voiceovers', ' Workout Videos']), (15, ['Runaway', 'Cloud 9', 'Dale Corte (Con Luxian, Keishon Trigga y S4vage)', 'Fiel', 'Tapão Na Raba'], [' #trending', ' #likeforlikes', ' #explorepage', ' #love', ' #follow'], ['Making Art', ' Food/Cooking Videos', ' Voiceovers', ' Life in Quarantine', ' Videos of Your Daily Life']), (16, ['Anota Placa', '3KIPA', 'Astronaut In The Ocean', 'Wellerman - Sea Shanty / 220 KID x Billen Ted Remix', 'Tu Aake Dekhle'], [' #meme', ' #tiktokindia', ' #like', ' #explorepage', ' #youtube'], [' Collaborations with Influencers', ' Tutorials', 'Dialogue Reenactments\\xa0', 'Cute Animal Videos', ' Workout Videos']), (17, ['Hold On', 'Friday (feat. Mufasa &amp; Hypeman) - Dopamine Re-Edit', 'SugarCrash!', 'SugarCrash!', 'en el Refuego'], [' #follow', ' #lfl', ' #memes', ' #music', ' #likes'], [' Voiceovers', 'Satisfying/Calming Videos', 'Videos Based on Trending Hashtags', ' Freeze-Frame Videos', 'Satisfying/Calming Videos']), (18, ['Dale Corte (Con Luxian, Keishon Trigga y S4vage)', \"Cupid's Chokehold / Breakfast in America\", 'Kiss (Never Let Me Go)', 'L-Gante: Bzrp Music Sessions, Vol.38', 'Mi manchi'], [' #trending', ' #tiktokdance', ' #photography', ' #memes', ' #funny'], ['Social Media Challenges', 'Social Media Challenges', ' Fruit Cutting', ' Live Videos', ' Workout Videos']), (19, ['I Hear a Symphony', 'On The Ground', \"Rollin'\", 'Wellerman - Sea Shanty / 220 KID x Billen Ted Remix', 'SugarCrash!'], [' #k', ' #follow', ' #explorepage', ' #instagood', ' #follow'], ['Videos Based on Trending Hashtags', 'Making Art', ' Workout Videos', 'Dialogue Reenactments\\xa0', ' Live Videos'])]\n"
     ]
    }
   ],
   "source": [
    "def base_utilisateur(nb , long): #nb = nombre d'utilisateur , long = nb de donées dans chaque liste\n",
    "\n",
    "\t# renvoie une liste de Tuple de type (identifiant , liste musique favoris , liste hashtag favoris , liste theme favoris)\n",
    "\tbase = []\n",
    "\tlh = [] #liste hashtag favoris\n",
    "\tlm = []\t#liste musique favoris \n",
    "\tlt = [] #liste theme favoris\n",
    "\tl1 = musique()\n",
    "\tl2 = hashtag()\n",
    "\tl3 = themes()\n",
    "\tj =  0\n",
    "\ti = 1\n",
    "\n",
    "\twhile i < nb :\n",
    "\t\twhile j < long :\n",
    "\t\t\tlm.append(random.choice(l1))\n",
    "\t\t\tlh.append(random.choice(l2))\n",
    "\t\t\tlt.append(random.choice(l3))\n",
    "\t\t\tj = j + 1\n",
    "\t\t\n",
    "\t\tbase.append((i , lm , lh , lt))\n",
    "\t\ti = i + 1\n",
    "\t\tj = 0\n",
    "\t\tlm = []\n",
    "\t\tlh = []\n",
    "\t\tlt =[]\n",
    "\n",
    "\treturn base\n",
    "\n",
    "userbase = base_utilisateur(20,5)\n",
    "videobase = base_video(20)\n",
    "\n",
    "print(\"\\n\")\n",
    "print(userbase)"
   ]
  },
  {
   "cell_type": "markdown",
   "metadata": {},
   "source": [
    "## add_interaction\n",
    "\n",
    "`add_interaction` sert à rajouter une intéraction à une vidéo, reliée à un utilisateur généré par `base_utilisateur`. Cette donnée sera gardée dans la liste `interactions` sous format d'un dictionnaire de tuples `identifiant, liked_videos, commented_videos, shared_videos`. Il sera mis en boucle par `tour_modele` "
   ]
  },
  {
   "cell_type": "code",
   "execution_count": 10,
   "metadata": {},
   "outputs": [],
   "source": [
    "def gen_user_pref(base_utilisateurs, base_videos, start_amount): # start_amount représente le nombre de vidéos au début\n",
    "    b_u = base_utilisateurs.copy()\n",
    "    b_v = base_videos.copy()\n",
    "    videos_liked = [] #liste des videos likées\n",
    "    videos_shared = [] #liste des vidéos commentées\n",
    "    videos_commented = [] #liste des vidéos partagées\n",
    "    for i in range(start_amount):  \n",
    "        v = random.choice(b_v)\n",
    "        print(v)\n",
    "        if v not in videos_liked:\n",
    "            videos_liked.append(v[0])\n",
    "        v = random.choice(b_v)\n",
    "        if v not in videos_commented:\n",
    "            videos_commented.append(v[0])\n",
    "        v = random.choice(b_v)\n",
    "        if v not in videos_shared:\n",
    "            videos_shared.append(v[0])\n",
    "        b_u.append([videos_liked,videos_commented,videos_shared])\n",
    "        \n",
    "    return b_u"
   ]
  },
  {
   "cell_type": "code",
   "execution_count": 11,
   "metadata": {},
   "outputs": [
    {
     "name": "stdout",
     "output_type": "stream",
     "text": [
      "(11, 'Song Imitations', 'Flamenco y Bachata', ' #youtube')\n",
      "(17, 'Cute Animal Videos', 'Iko Iko', ' #music')\n",
      "(15, ' Makeover Videos', 'I Hear a Symphony', ' #tiktokindia')\n",
      "(6, 'Social Media Challenges', 'Dale Corte (Con Luxian, Keishon Trigga y S4vage)', ' #love')\n",
      "(4, ' Food/Cooking Videos', 'en el Refuego', ' #tiktokindonesia')\n",
      "(13, ' Collaborations with Influencers', 'telepatía', ' #explorepage')\n",
      "(12, 'Satisfying/Calming Videos', 'Tu Aake Dekhle', ' #explorepage')\n",
      "(19, ' Voiceovers', 'telepatía', ' #photography')\n",
      "(14, ' Science Experiments', 'To the Bone', ' #memes')\n",
      "(13, ' Collaborations with Influencers', 'telepatía', ' #explorepage')\n",
      "(16, 'Making Art', 'Fiel', ' #meme')\n",
      "(15, ' Makeover Videos', 'I Hear a Symphony', ' #tiktokindia')\n",
      "(12, 'Satisfying/Calming Videos', 'Tu Aake Dekhle', ' #explorepage')\n",
      "(18, ' Fruit Cutting', '3KIPA', ' #love')\n",
      "(4, ' Food/Cooking Videos', 'en el Refuego', ' #tiktokindonesia')\n",
      "(13, ' Collaborations with Influencers', 'telepatía', ' #explorepage')\n",
      "(2, ' Videos of Your Daily Life', 'Gone', ' #explorepage')\n",
      "(1, ' Makeover Videos', 'YKWIM?', ' #instagood')\n",
      "(3, 'Song Imitations', 'SugarCrash!', ' #followforfollowback')\n",
      "(11, 'Song Imitations', 'Flamenco y Bachata', ' #youtube')\n",
      "(18, ' Fruit Cutting', '3KIPA', ' #love')\n",
      "(8, ' Voiceovers', 'Cloud 9', ' #instagood')\n",
      "(17, 'Cute Animal Videos', 'Iko Iko', ' #music')\n",
      "(3, 'Song Imitations', 'SugarCrash!', ' #followforfollowback')\n",
      "(4, ' Food/Cooking Videos', 'en el Refuego', ' #tiktokindonesia')\n",
      "(5, 'Making Art', 'YKWIM?', ' #music')\n",
      "(8, ' Voiceovers', 'Cloud 9', ' #instagood')\n",
      "(11, 'Song Imitations', 'Flamenco y Bachata', ' #youtube')\n",
      "(16, 'Making Art', 'Fiel', ' #meme')\n",
      "(2, ' Videos of Your Daily Life', 'Gone', ' #explorepage')\n",
      "(14, ' Science Experiments', 'To the Bone', ' #memes')\n",
      "(4, ' Food/Cooking Videos', 'en el Refuego', ' #tiktokindonesia')\n",
      "(17, 'Cute Animal Videos', 'Iko Iko', ' #music')\n",
      "(4, ' Food/Cooking Videos', 'en el Refuego', ' #tiktokindonesia')\n",
      "(10, 'Dance Videos', 'Track Star', ' #bhfyp')\n",
      "(9, 'Cute Animal Videos', 'Iko Iko', ' #follow')\n",
      "(17, 'Cute Animal Videos', 'Iko Iko', ' #music')\n",
      "(8, ' Voiceovers', 'Cloud 9', ' #instagood')\n",
      "(14, ' Science Experiments', 'To the Bone', ' #memes')\n",
      "(5, 'Making Art', 'YKWIM?', ' #music')\n",
      "(3, 'Song Imitations', 'SugarCrash!', ' #followforfollowback')\n",
      "(17, 'Cute Animal Videos', 'Iko Iko', ' #music')\n",
      "(5, 'Making Art', 'YKWIM?', ' #music')\n",
      "(3, 'Song Imitations', 'SugarCrash!', ' #followforfollowback')\n",
      "(3, 'Song Imitations', 'SugarCrash!', ' #followforfollowback')\n",
      "(7, 'Satisfying/Calming Videos', 'Prom Night', ' #trending')\n",
      "(3, 'Song Imitations', 'SugarCrash!', ' #followforfollowback')\n",
      "(3, 'Song Imitations', 'SugarCrash!', ' #followforfollowback')\n",
      "(13, ' Collaborations with Influencers', 'telepatía', ' #explorepage')\n",
      "(8, ' Voiceovers', 'Cloud 9', ' #instagood')\n",
      "(1, ' Makeover Videos', 'YKWIM?', ' #instagood')\n",
      "(7, 'Satisfying/Calming Videos', 'Prom Night', ' #trending')\n",
      "(12, 'Satisfying/Calming Videos', 'Tu Aake Dekhle', ' #explorepage')\n",
      "(19, ' Voiceovers', 'telepatía', ' #photography')\n",
      "(8, ' Voiceovers', 'Cloud 9', ' #instagood')\n",
      "(10, 'Dance Videos', 'Track Star', ' #bhfyp')\n",
      "(18, ' Fruit Cutting', '3KIPA', ' #love')\n",
      "(8, ' Voiceovers', 'Cloud 9', ' #instagood')\n",
      "(16, 'Making Art', 'Fiel', ' #meme')\n",
      "(19, ' Voiceovers', 'telepatía', ' #photography')\n",
      "(17, 'Cute Animal Videos', 'Iko Iko', ' #music')\n",
      "(16, 'Making Art', 'Fiel', ' #meme')\n",
      "(13, ' Collaborations with Influencers', 'telepatía', ' #explorepage')\n",
      "(9, 'Cute Animal Videos', 'Iko Iko', ' #follow')\n",
      "(4, ' Food/Cooking Videos', 'en el Refuego', ' #tiktokindonesia')\n",
      "(11, 'Song Imitations', 'Flamenco y Bachata', ' #youtube')\n",
      "(18, ' Fruit Cutting', '3KIPA', ' #love')\n",
      "(14, ' Science Experiments', 'To the Bone', ' #memes')\n",
      "(1, ' Makeover Videos', 'YKWIM?', ' #instagood')\n",
      "(1, ' Makeover Videos', 'YKWIM?', ' #instagood')\n",
      "(16, 'Making Art', 'Fiel', ' #meme')\n",
      "(8, ' Voiceovers', 'Cloud 9', ' #instagood')\n",
      "(8, ' Voiceovers', 'Cloud 9', ' #instagood')\n",
      "(9, 'Cute Animal Videos', 'Iko Iko', ' #follow')\n",
      "(9, 'Cute Animal Videos', 'Iko Iko', ' #follow')\n",
      "(13, ' Collaborations with Influencers', 'telepatía', ' #explorepage')\n",
      "(16, 'Making Art', 'Fiel', ' #meme')\n",
      "(15, ' Makeover Videos', 'I Hear a Symphony', ' #tiktokindia')\n",
      "(15, ' Makeover Videos', 'I Hear a Symphony', ' #tiktokindia')\n",
      "(18, ' Fruit Cutting', '3KIPA', ' #love')\n",
      "(3, 'Song Imitations', 'SugarCrash!', ' #followforfollowback')\n",
      "(5, 'Making Art', 'YKWIM?', ' #music')\n",
      "(2, ' Videos of Your Daily Life', 'Gone', ' #explorepage')\n",
      "(9, 'Cute Animal Videos', 'Iko Iko', ' #follow')\n",
      "(14, ' Science Experiments', 'To the Bone', ' #memes')\n",
      "(16, 'Making Art', 'Fiel', ' #meme')\n",
      "(3, 'Song Imitations', 'SugarCrash!', ' #followforfollowback')\n",
      "(7, 'Satisfying/Calming Videos', 'Prom Night', ' #trending')\n",
      "(9, 'Cute Animal Videos', 'Iko Iko', ' #follow')\n",
      "(3, 'Song Imitations', 'SugarCrash!', ' #followforfollowback')\n",
      "(18, ' Fruit Cutting', '3KIPA', ' #love')\n",
      "(13, ' Collaborations with Influencers', 'telepatía', ' #explorepage')\n",
      "(6, 'Social Media Challenges', 'Dale Corte (Con Luxian, Keishon Trigga y S4vage)', ' #love')\n",
      "(5, 'Making Art', 'YKWIM?', ' #music')\n",
      "(9, 'Cute Animal Videos', 'Iko Iko', ' #follow')\n"
     ]
    }
   ],
   "source": [
    "userprefs = gen_user_pref(userbase,videobase, 5)\n",
    "#print(userprefs)"
   ]
  },
  {
   "cell_type": "code",
   "execution_count": 6,
   "metadata": {},
   "outputs": [],
   "source": [
    "interactions = dict()"
   ]
  },
  {
   "cell_type": "code",
   "execution_count": 7,
   "metadata": {},
   "outputs": [
    {
     "ename": "IndentationError",
     "evalue": "expected an indented block (<ipython-input-7-28d4f803713b>, line 2)",
     "output_type": "error",
     "traceback": [
      "\u001b[0;36m  File \u001b[0;32m\"<ipython-input-7-28d4f803713b>\"\u001b[0;36m, line \u001b[0;32m2\u001b[0m\n\u001b[0;31m    \u001b[0m\n\u001b[0m    ^\u001b[0m\n\u001b[0;31mIndentationError\u001b[0m\u001b[0;31m:\u001b[0m expected an indented block\n"
     ]
    }
   ],
   "source": [
    "#users own video for interactions\n",
    "\n",
    "def add_interaction(base_utilisateurs, base_videos, interactions):\n",
    "    if : # decide condition\n",
    "        "
   ]
  },
  {
   "cell_type": "markdown",
   "metadata": {},
   "source": [
    "# Résumé fonctionnement\n",
    "\n",
    "`base_utilisateurs` et `base_videos` sont immutables.\n",
    "\n",
    "`base_utilisateurs` commence avec des dictionnaires `ident:` tuples `(theme, musique, hashtag)`.\n",
    "`base_videos` commence avec des dictionnaires `ident:` tuples `(theme, musique, hashtag)`.\n",
    "(note : on pourrait peut-être utiliser la même fonction pour les créer avec des nombres d'itérations différents (ou même un lien entre le nb utilisateurs et le nb vidéos)\n",
    "\n",
    "Stockage de données :\n",
    "\n",
    "- `interactions` : dictionnaire `identifiant vidéo: [vue, like, comm, partage]`\n",
    "- `interaction_utilisateur` de format `ident user : [ident video]\n",
    "\n",
    "Comment on va itérer :\n",
    "\n",
    "- on va parcourir la base de vidéos et la base d'utilisateurs pour accumuler des intéractions: (fonction `tour_modele`)\n",
    "    - paramètres : `base_utilisateurs, base_videos (max_iter, on verra)`\n",
    "    - on prend un utilisateur random de `base_utilisateurs`:\n",
    "        - on prend des vidéos aléatoirement de `base_videos`\n",
    "        - on compare aux préferences de l'utilisateur (il suffit qu'une soit présente) (fonction `compare_video`)\n",
    "        - on continue jusqu'à qu'on trouve une vidéo qui correspond\n",
    "            - on rajoute la vidéo à intéractions : (fonction `add_interaction)\n",
    "                - on rajoute pour `interactions(ident)` une vue systématiquement\n",
    "                - un like (aléatoirement)\n",
    "                - un commentaire (aléatoirement)\n",
    "                - un partage (aléatoirement)\n",
    "            - on rajoute aussi la vidéo à `interaction_utilisateur`\n",
    "- on décide un poids à attribuer à chaque intéraction (ce seront les paramètres d'une fonction)\n",
    "- on utilise cela pour calculer un coefficient de popularité pour chaque vidéo (fonction `coefficient_popularite`)\n",
    "- cela détermine ce qui est prioritisé par la modélisation de Manissa et Salwa"
   ]
  },
  {
   "cell_type": "markdown",
   "metadata": {},
   "source": [
    "# compare_video\n",
    "\n",
    "Compare les caractéristiques d'une vidéo aux préférences d'un utilisateur. Si elles sont les mêmes, True est retourné. Est utilisée dans `add_interaction`."
   ]
  },
  {
   "cell_type": "code",
   "execution_count": 4,
   "metadata": {},
   "outputs": [],
   "source": [
    "def compare_video(utilisateur, video): # iteration for videos will be done separately either on tour_modele or a function like compare_videos\n",
    "    for i in range (1,len(utilisateur)):\n",
    "        if utilisateur[i] == video[i]:\n",
    "            return True\n",
    "    return False"
   ]
  },
  {
   "cell_type": "markdown",
   "metadata": {},
   "source": [
    "## Représentation graphique\n",
    "\n",
    "Lorsque vous ouvrez le dossier, exécutez le fichier propagation_video_animation.py. Normalement, vous devez tomber sur une fenêtre tkinter qui demandera d'entrer les paramètres.\n",
    "En fait, elles ne sont pas obligatoires, même si que les entrées sont vides et que vous cliquez sur \"Start\", ça fonctionnera.\n",
    "\n",
    "Une fois que vous cliquez sur \"Start\", une nouvelle fenêtre apparaîtra, celle de pygame. Comme avant, vous pouvez utiliser espace, puis les touches directionnelles pour déplacer tiktok.\n",
    "D'ailleurs, vous pouvez voir la confirmation des entrées dans la console normalement.\n",
    "\n",
    "Comme avant, lorsque vous être en contact avec un humain, la console affiche le numéro de la collision, puis le nombre de vues augmente. Mais cette fois, le nombre de vues s'arrête à un moment précis, celui de l'objectif du nombre de vues."
   ]
  },
  {
   "cell_type": "code",
   "execution_count": null,
   "metadata": {},
   "outputs": [],
   "source": []
  }
 ],
 "metadata": {
  "kernelspec": {
   "display_name": "Python 3",
   "language": "python",
   "name": "python3"
  },
  "language_info": {
   "codemirror_mode": {
    "name": "ipython",
    "version": 3
   },
   "file_extension": ".py",
   "mimetype": "text/x-python",
   "name": "python",
   "nbconvert_exporter": "python",
   "pygments_lexer": "ipython3",
   "version": "3.9.3"
  },
  "metadata": {
   "interpreter": {
    "hash": "3e4985cd88b3a56a52b003f0882d181d8cd7ec7ac144250e5d6b471c317680e4"
   }
  }
 },
 "nbformat": 4,
 "nbformat_minor": 4
}
