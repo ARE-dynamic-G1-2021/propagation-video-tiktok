{
 "cells": [
  {
   "cell_type": "markdown",
   "metadata": {},
   "source": [
    "# Propagation d'une vidéo sur TikTok"
   ]
  },
  {
   "cell_type": "markdown",
   "metadata": {},
   "source": [
    "## Introduction\n",
    "Avec la prolifération des réseaux sociaux, particulièrement dans le contexte de la crise sanitaire du COVID-19, il nous semble pertinent de traiter comment les plateformes s’adaptent à notre psychologie. Pour nous proposer des contenus qui nous intéressent, mais surtout pour nous inciter à rester le plus longtemps possible sur la plateforme comme source de revenus.\n",
    "\n",
    "C’est pour ceci qu’on souhaite créer une modélisation de TikTok qui nous permettra d’étudier comment une vidéo se “propage” vers les utilisateurs de la plateforme. Cela dans le but de pouvoir illustrer la propagation d’une vidéo en particulier, et éventuellement les paramètres qui ont mené à son succès.\n",
    "\n",
    "With the rapid spread of social media, particularly during the COVID-19 pandemic, it seems relevant to study how online platforms adapt themselves to our way of thinking, whether it’s to recommend content or to encourage spending more time on their platform as a source of revenue.\n",
    "\n",
    "This is why we are attempting to create a model of TikTok that would allow us to observe how a video spreads towards the platform’s users, the end goal being to illustrate the spread of an individual video, and possibly the parameters that led to its success."
   ]
  },
  {
   "cell_type": "markdown",
   "metadata": {},
   "source": [
    "## Les systèmes de recommandation de TikTok\n",
    "\n",
    "En étudiant l'article de TikTok sur le fonctionnement de ses algorithmes de recommandation, nous avons déterminé que le site utilise une approche \"hybride\" vers les systèmes de recommandation : il utilise simultanément le \"content-based filtering\" et le \"collaborative filtering\". [1]\n",
    "\n",
    "Le \"content-based filtering\", ou \"filtrage basé sur le contenu\" est une méthode de recommandation qui compare les caractéristiques d'une vidéo et qui les compare aux préférences de l'utilisateur. Ces préférences sont ou recensées au premier démarrage de l'application ou déterminées par les actions de l'utilisateur (quelles vidéos il regarde, etc). [2]\n",
    "\n",
    "Le \"collaborative filtering\", de son côté, compare les préférences d'un utilisateur (qu'on appelera principal) aux préférences d'un autre. Il recense ensuite les vidéos que l'autre utilisateur a regardé pour proposer ce contenu à l'utilisateur principal. [3]\n",
    "\n",
    "Vu qu'on veut s'axer sur le point de vue de la propagation d'une vidéo vers des utilisateurs (content-based) et non pas des utilisateurs vers la vidéo (collaborative filtering), on s'est décidé de faire une simulation d'un système de recommandation basé sur le \"content-based filtering\". \n",
    "\n"
   ]
  },
  {
   "cell_type": "markdown",
   "metadata": {},
   "source": [
    "## Fonctions web-scraping\n",
    "\n",
    "Ces fonctions servent à tirer des musiques, themes et hashtags pour utiliser dans la modélisation."
   ]
  },
  {
   "cell_type": "code",
   "execution_count": 6,
   "metadata": {},
   "outputs": [],
   "source": [
    "import requests\n",
    "from bs4 import BeautifulSoup\n",
    "import random\n",
    "\n",
    "def musique(): #Liste des 50 musiques populaires\n",
    "\n",
    "    musique = ['911','Your Love' ,'LA CANCIÓN','Fever','BXL ZOO','SENTIMENTAL','La Curiosidad','Levitating',\n",
    "    'TE MUDASTE','EL MAKINON','WITHOUT YOU','Whoopty','Life Is Good','Circles','COEUR EN MIETTES','HAINE&SEX',\n",
    "    'Beautiful Mistakes','Señorita','Ariana Grande','Positions','Shape of You','Lose Yourself','Goosebumps',\n",
    "    'Savage Love','Africa','34+35','Tattoo' ,'Stressed Out','Lonely','Therefore I Am','Shallow',\n",
    "    'Every Breath You Take','Rapstar','Peaches','Up','Deja Vu','Calling My phone','Ski','Mood','Go Crazy',\n",
    "    'Therefore I Am','On Me','Track Star','Good Days','Streets','Time Today','Richer','Anyone','Lady','Proud Of You']\n",
    "\n",
    "    return musique\n",
    "\n",
    "# print(musique())\n",
    "\n",
    "#renvoie  la liste des hashtags tiktok populaire \n",
    "\n",
    "\n",
    "def hashtag():\n",
    "\n",
    "\turl = 'http://best-hashtags.com/hashtag/tiktok/'\n",
    "\n",
    "\tresponse = requests.get(url)\n",
    "\n",
    "\tif response.ok :\n",
    "\t\tnom = []\n",
    "\t\thashtag =[]\n",
    "\t\tlr = []\n",
    "\t\tn = ''\n",
    "\t\tsoup = BeautifulSoup(response.text, 'lxml')\n",
    "\t\tname = soup.findAll('p1')\n",
    "\t\n",
    "\t\tfor p1 in name :\n",
    "\t\t\tnom.append(str(p1))\n",
    "\n",
    "\t\tfor i in nom :\n",
    "\t\t\tfor s in i :\n",
    "\t\t\t\tif (s == ' ') :\n",
    "\t\t\t\t\tlr.append(n)\n",
    "\t\t\t\t\tn = ''\n",
    "\t\t\t\tn +=s\n",
    "\n",
    "\tfor j in range(1,len(lr)):\n",
    "\t\thashtag.append(lr[j])\n",
    "\n",
    "\n",
    "\treturn hashtag\n",
    "\n",
    "# Renvoie la listes du top 21 des themes de video populaire sur Tiktok\n",
    "\n",
    "def themes():\n",
    "\n",
    "\turl = 'https://influencermarketinghub.com/tiktok-video-ideas/'\n",
    "\n",
    "\tresponse = requests.get(url)\n",
    "\n",
    "\tif response.ok :\n",
    "\t\tlr = []\n",
    "\t\tl = []\n",
    "\t\tth = ''\n",
    "\t\ttheme =[]\n",
    "\n",
    "\t\tsoup = BeautifulSoup(response.text, 'lxml')\n",
    "\t\tname = soup.findAll('strong')\n",
    "\t\n",
    "\t\tfor strong in name :\n",
    "\t\t\tlr.append(str(strong))\n",
    "\n",
    "\t\tfor i in range(2,len(lr)) :\n",
    "\t\t\tl.append(lr[i])\n",
    "\n",
    "\t\tfor j in l :\n",
    "\t\t\tfor s in range(11 , len(j)-9 ) :\n",
    "\t\t\t\tth = th + j[s]\n",
    "\n",
    "\t\t\ttheme.append(th)\n",
    "\t\t\tth = ''\n",
    "\n",
    "\treturn theme"
   ]
  },
  {
   "cell_type": "markdown",
   "metadata": {},
   "source": [
    "## Fonctionnnement de notre simulation/modèle de l'algorithme de recommandation de TikTok\n",
    "\n",
    "`base_utilisateurs` stocke des listes représentant chacune un utilisateur avec un theme, une musique, et un hashtag préféré.\n",
    "`base_videos` stocke des vidéos sous le même format, mais cette fois les themes, musiques, etc sont les caractéristiques de la vidéo.\n",
    "\n",
    "Nous avons également une liste `interactions_utilisateur` qui stocke l'identifiant d'un utilisateur et l'identifiant de toutes les vidéos qu'il a regardé, et une liste `interactions` qui stocke l'identifiant d'une vidéo et les intéractions qui ont eu lieu dessus : vues, likes, commentaires, partages.\n",
    "\n",
    "Pour faire un tour du modèle, on parcourt `base_videos` et `base_utilisateurs` pour accumuler des intéractions. Pour chaque intéraction, on prend un utilisateur aléatoirement de `base_utilisateurs`. Ensuite, on prend quelques vidéos de `base_videos`. On compare les préferences de l'utilisateur aux caractéristiques des vidéos. Si au moins une est présente, on démarre une \"intéraction\" avec la vidéo. \n",
    "\n",
    "On rajoute alors systématiquement une vue à `interactions`, puis aléatoirement un like, commentaire et partage. On utilise ensuite les données résultantes pour représenter graphiquement comment se propage une vidéo. (voir section Représentation Graphique)\n",
    "\n",
    "Vous verrez en dessous des exemples de fonctions qui génèrent ces données. Notez qu'il s'agit de fonctions prototypes et servent uniquement pour illustrer le fonctionnement du modèle."
   ]
  },
  {
   "source": [
    "### base_videos\n",
    "\n",
    "Génère une base de vidéos avec `nbv` vidéos."
   ],
   "cell_type": "markdown",
   "metadata": {}
  },
  {
   "source": [
    "nbv = 200 #permet de generer nbv video\n",
    "def base_videos(nbv):\n",
    "    l1 = themes()\n",
    "    l2 = musique()\n",
    "    l3 = hashtag()\n",
    "\n",
    "    video = {}\n",
    "    i = 1 #Permet d'assigner un identifiant à chaque video\n",
    "\n",
    "    while i < nbv : \n",
    "        video[i]= (random.choice(l1) , random.choice(l2) , random.choice(l3))\n",
    "        i = i + 1\n",
    "        \n",
    "    return video\n",
    "video = base_videos(nbv)"
   ],
   "cell_type": "code",
   "metadata": {},
   "execution_count": 7,
   "outputs": []
  },
  {
   "source": [
    "### base_utilisateur\n",
    "\n",
    "Génère une base de `nbu` utilisateurs."
   ],
   "cell_type": "markdown",
   "metadata": {}
  },
  {
   "cell_type": "code",
   "execution_count": 8,
   "metadata": {},
   "outputs": [],
   "source": [
    "nbu = 50 #permet de generer nbu utilisateur\n",
    "\n",
    "def base_utilisateur(nbu):\n",
    "    l1 = themes()\n",
    "    l2 = musique()\n",
    "    l3 = hashtag()\n",
    "\n",
    "    utilisateur = {}\n",
    "    i = 1 #Permet d'assigner un identifiant à chaque utilisateur \n",
    "\n",
    "    while i < nbu : \n",
    "        utilisateur[i] = (random.choice(l1) , random.choice(l2) , random.choice(l3))\n",
    "        i = i + 1\n",
    "        \n",
    "    return utilisateur\n",
    "utilisateur = base_utilisateur(nbu)"
   ]
  },
  {
   "source": [
    "### add_interaction\n",
    "\n",
    "Rajoute une intéraction à une vidéo d'identifiant `idvideo`. Nous avons aussi inclus du code pour initialiser un dictionnaire d'intéractions (une version prototype du modèle utilisait des dictionnaires avant qu'on soit confronté aux limitations de pygame)."
   ],
   "cell_type": "markdown",
   "metadata": {}
  },
  {
   "cell_type": "code",
   "execution_count": 9,
   "metadata": {},
   "outputs": [],
   "source": [
    "interactions = {} \n",
    "\n",
    "for k in range(0 , len(video)):\n",
    "\tinteractions[k] = [0,0,0,0] # Initialise interaction\n",
    "\n",
    "def add_interaction(idvideo):\n",
    "\tfor l in interactions[idvideo]:\n",
    "\t\t\t\tl[0] += 1  #ajoute systematiquement une vue\n",
    "\t\t\t\tl[1]+= random.randint(0,1) #ajoute like aleatoirement\n",
    "\t\t\t\tl[2]+= random.randint(0,1) #ajoute commentaire aleatoirement\n",
    "\t\t\t\tl[3]+= random.randint(0,1) #ajoute partage aleatoirement"
   ]
  },
  {
   "source": [
    "### compare_video\n",
    "\n",
    "Compare les caractéristiques d'une video aux préferences de l'utilisateur passé en paramètre."
   ],
   "cell_type": "markdown",
   "metadata": {}
  },
  {
   "cell_type": "code",
   "execution_count": 10,
   "metadata": {},
   "outputs": [],
   "source": [
    "def compare_video(utilisateur, video): # iteration for videos will be done separately either on tour_modele or a function like compare_videos\n",
    "    for i in range (len(utilisateur)):\n",
    "        if utilisateur[i] == video[i]:\n",
    "            return True\n",
    "    return False"
   ]
  },
  {
   "cell_type": "markdown",
   "metadata": {},
   "source": [
    "## Représentation graphique\n",
    "\n",
    "Le modèle contient deux fenêtres. Lorsqu'on exécute le fichier principale \"propagation_video_animation2\", nous arrivons sur la fenêtre créée avec tkinter. Cette fenêtre tkinter permet de gérer les entrées afin d'observer le modèle en fonction des changements d'entrées.\n",
    "\n",
    "Les entrées sont respectivement :\n",
    "\n",
    "- Elements par liste : En fonction de l'expérience des utilisateurs, les éléments dans leurs listes d'interactions augmentent. L'entrée 2 correspond au fait que l'utilisateur aime 2 thèmes, 2 musiques, 2 hashtags, commentent également 2 thèmes et ainsi de suite.\n",
    "- Nombre d'utilisateurs : Il s'agit du nombre d'utilisateurs ayant eu la recommandation de la vidéo. En fonction de l'animation, certains ne regarderont pas la vidéo.\n",
    "- Objectif Nombre de vues : Indiquer au bout de combien de vues la vidéo devient populaire.\n",
    "- Objectif Nombre de likes : Indiquer au bout de combien de j'aimes la vidéo devient populaire\n",
    "- Objectif Nombre de commentaires : Indiquer au bout de combien de commentaires la vidéo devient populaire\n",
    "- Objectif Nombre de partages : Indiquer au bout de combien de partages la vidéo devient populaire\n",
    "- Durée maximale : Voir les statistiques de la vidéo au bout d'un certain temps. Dans le modèle, chaque seconde correspond à 1 jour. Avant, elle correspondait à 1 semaine.\n",
    "\n",
    "Nous ne sommes pas obligés de définir les entrées. Si nous ne les entrons pas, les valeurs par défauts s'affichent à la place. D'ailleurs, les entrées ont des valeurs par défaut :\n",
    "\n",
    "- Elements par liste : 1\n",
    "- Nombre d'utilisateurs : 150\n",
    "- Objectif Nombre de vues : 500\n",
    "- Objectif Nombre de likes : 500\n",
    "- Objectif Nombre de commentaires : 500\n",
    "- Objectif Nombre de partages : 500\n",
    "- Durée maximale : 260 (Initialement, le choix de cette valeur correspondait à 52 semaines * 5 années, on obtient 260 semaines qui correspond à 5 ans)\n",
    "\n",
    "On ne peut pas régler un seul objectif. Si nous ne voulons observer le modèle que selon le nombre de vues, il faut entrer de plus grands nombres dans les autres entrées, car l'animation s'arrête dès qu'un objectif est atteint.\n",
    "\n",
    "Lorsqu'on clique sur \"Start\", une nouvelle fenêtre, celle faite avec pygame, s'affiche. Si l'écran reste noir pendant un certain temps, le programme fait le chargement de 15 000 bases de données pour les utilisateurs.\n",
    "\n",
    "Lorsque le chargement est terminé, l'écran contient un fond rouge, les utilisateurs dont le nombre est sélectionné en entrée sont affichées par des emoticônes en forme de bonhomme noir, ainsi que les informations à gauche.\n",
    "\n",
    "Pour débuter l'animation, il faut appuyer sur la touche \"Espace\". Un icône de tiktok apparaît en bas à droite, ainsi que le temps en haut à gauche. Il est malheureusement en retard dans notre cas, car il débute quand on clique sur \"Start\".\n",
    "\n",
    "On peut maintenant déplacer manuellement Tiktok avec les touches directionnelles, c'est-à-dire les flèches HAUT, BAS, DROITE, GAUCHE.\n",
    "\n",
    "Lorsque tiktok est en collision avec un utilisateur, cela signifie que cet utilisateur a vu la vidéo. Donc tiktok gagne une ou plusieurs vues selon la vitesse à laquelle elle avance. Elle gagne aussi des likes, commentaires, partages si la vidéo se trouve dans sa liste d'interaction.\n",
    "\n",
    "On peut voir la statistique se mettre à jour à gauche, le temps de propagation et les objectifs fixés en entrée.\n",
    "\n",
    "Lorsqu'on touche un utilisateur avec la souris, on peut voir le numéro de l'utilisateur ainsi que ses listes d'interactions.\n",
    "\n",
    "On peut remarquer que les utilisateurs apparaissent petit à petit. Plus le nombre d'utilisateurs est élevée au départ, plus la fréquence d'apparition est grande.\n",
    "\n",
    "Lorsqu'on clique sur la touche \"A\", tiktok avance aléatoirement vers les utilisateurs.\n",
    "\n",
    "Lorsqu'un objectif est atteint, le déplacement automatique de tiktok s'arrête et un message est affiché en haut. Le chronomètre et le temps de propagation s'arrêtent également.\n",
    "\n",
    "Pour observer un autre modèle, il faut malheureusement quitter les fenêtres et réexécuter le fichier principal."
   ]
  },
  {
   "source": [
    "## Conclusion et critique\n",
    "\n",
    "En conclusion, notre modèle de propagation d’une vidéo Tiktok permet d’analyser les facteurs principaux de la popularité ou non d’une vidéo au cours du temps. On a pu voir que les principaux paramètres qui entrent en compte sont les différentes caractéristiques que possède une vidéo comme son thème, sa musiques et ses hashtags. Un utilisateur aura plus de chances de voir et d’interagir avec une vidéo si celle-ci possède des caractéristiques qu’il apprécie. Notre modèle aurait donc pu être plus réaliste si nous avions pris en compte plus de paramètres concernant l’utilisateur."
   ],
   "cell_type": "markdown",
   "metadata": {}
  },
  {
   "source": [
    "## Bibliographie\n",
    "\n",
    "[1]« How TikTok recommends videos #ForYou », Newsroom | TikTok, août 16, 2019. https://newsroom.tiktok.com/en-us/how-tiktok-recommends-videos-for-you/ (consulté le mai 04, 2021).\n",
    "\n",
    "[2]« Content-based Filtering | Recommendation Systems », Google Developers. https://developers.google.com/machine-learning/recommendation/content-based/basics (consulté le mai 04, 2021).\n",
    "\n",
    "[3]« Collaborative Filtering | Recommendation Systems », Google Developers. https://developers.google.com/machine-learning/recommendation/collaborative/basics (consulté le mai 04, 2021).\n"
   ],
   "cell_type": "markdown",
   "metadata": {}
  }
 ],
 "metadata": {
  "kernelspec": {
   "display_name": "Python 3",
   "language": "python",
   "name": "python3"
  },
  "language_info": {
   "codemirror_mode": {
    "name": "ipython",
    "version": 3
   },
   "file_extension": ".py",
   "mimetype": "text/x-python",
   "name": "python",
   "nbconvert_exporter": "python",
   "pygments_lexer": "ipython3",
   "version": "3.9.4"
  },
  "metadata": {
   "interpreter": {
    "hash": "3e4985cd88b3a56a52b003f0882d181d8cd7ec7ac144250e5d6b471c317680e4"
   }
  }
 },
 "nbformat": 4,
 "nbformat_minor": 4
}